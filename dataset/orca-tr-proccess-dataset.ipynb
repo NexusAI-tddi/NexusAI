{
  "cells": [
    {
      "cell_type": "code",
      "execution_count": null,
      "metadata": {
        "id": "sFkLkQzF2jJ5"
      },
      "outputs": [],
      "source": [
        "from datasets import load_dataset\n",
        "import pandas as pd\n",
        "import json\n",
        "\n",
        "dataset = load_dataset(\"OpenOrca-tr\") # 2.5 million rows"
      ]
    },
    {
      "cell_type": "code",
      "execution_count": null,
      "metadata": {
        "id": "NTTtQTLm2qjS"
      },
      "outputs": [],
      "source": [
        "dataset = dataset.shuffle(seed=42)['train'][:1000000] # get 1 million row"
      ]
    },
    {
      "cell_type": "code",
      "execution_count": null,
      "metadata": {
        "id": "-Pe4RQQZ35Qw"
      },
      "outputs": [],
      "source": [
        "df = pd.DataFrame(dataset)\n",
        "\n",
        "df.columns = ['system', 'instruction', 'output']\n",
        "df.to_json(\"orca-tr-1million-sharegpt.json\", orient=\"records\", indent=1)"
      ]
    },
    {
      "cell_type": "markdown",
      "metadata": {
        "id": "sHg1B2Pu0GXP"
      },
      "source": [
        "# Convert to sharegpt format"
      ]
    },
    {
      "cell_type": "code",
      "execution_count": null,
      "metadata": {
        "colab": {
          "base_uri": "https://localhost:8080/"
        },
        "id": "dQqMkRZ52azK",
        "outputId": "19e028e4-18de-4902-8d04-dfcc0dc08491"
      },
      "outputs": [
        {
          "name": "stdout",
          "output_type": "stream",
          "text": [
            "#out: 1000000\n"
          ]
        }
      ],
      "source": [
        "content = json.load(open(\"orca-tr-1million-sharegpt.json\", \"r\"))\n",
        "new_content = []\n",
        "for index, content in enumerate(content):\n",
        "    system = content[\"system\"]\n",
        "    question, answer = content[\"instruction\"], content[\"output\"]\n",
        "\n",
        "    new_content.append(\n",
        "        {\n",
        "            \"conversations\": [\n",
        "                {\"from\": \"system\", \"value\": system},\n",
        "                {\"from\": \"human\", \"value\": question},\n",
        "                {\"from\": \"gpt\", \"value\": answer},\n",
        "            ],\n",
        "        }\n",
        "    )\n",
        "\n",
        "print(f\"#out: {len(new_content)}\")\n",
        "json.dump(new_content, open(\"orca-tr-1million-sharegpt.json\", \"w\"), indent=1, ensure_ascii=False)"
      ]
    }
  ],
  "metadata": {
    "colab": {
      "provenance": []
    },
    "kernelspec": {
      "display_name": "Python 3",
      "name": "python3"
    },
    "language_info": {
      "name": "python"
    }
  },
  "nbformat": 4,
  "nbformat_minor": 0
}
